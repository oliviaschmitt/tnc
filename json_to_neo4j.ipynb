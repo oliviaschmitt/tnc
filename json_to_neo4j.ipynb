{
 "cells": [
  {
   "cell_type": "markdown",
   "id": "a506933a",
   "metadata": {},
   "source": [
    "# load in files"
   ]
  },
  {
   "cell_type": "code",
   "execution_count": 12,
   "id": "bc46653f",
   "metadata": {},
   "outputs": [],
   "source": [
    "import json\n",
    "import numpy as np\n",
    "\n"
   ]
  },
  {
   "cell_type": "code",
   "execution_count": 13,
   "id": "de482014",
   "metadata": {},
   "outputs": [],
   "source": [
    "def load_json(fn):\n",
    "    result = None\n",
    "    with open(fn, \"r\") as in_file:\n",
    "        result = json.load(in_file)\n",
    "    return result\n",
    "\n"
   ]
  },
  {
   "cell_type": "code",
   "execution_count": 14,
   "id": "48a0d718",
   "metadata": {},
   "outputs": [],
   "source": [
    "cards = load_json(\"./csvjson.json\")\n"
   ]
  },
  {
   "cell_type": "code",
   "execution_count": 15,
   "id": "0a9f6891",
   "metadata": {},
   "outputs": [],
   "source": [
    "tags = load_json(\"./tags.json\")\n"
   ]
  },
  {
   "cell_type": "markdown",
   "id": "effd459e",
   "metadata": {},
   "source": [
    "# load in graph\n"
   ]
  },
  {
   "cell_type": "code",
   "execution_count": 16,
   "id": "0563f299",
   "metadata": {},
   "outputs": [],
   "source": [
    "from py2neo import data, Graph, NodeMatcher, Node, Relationship, RelationshipMatcher\n"
   ]
  },
  {
   "cell_type": "code",
   "execution_count": 17,
   "id": "fe01bf17",
   "metadata": {},
   "outputs": [],
   "source": [
    "g = Graph(\n",
    "    \"neo4j+s://9262ab51.databases.neo4j.io:7687\",\n",
    "    auth=(\"neo4j\", \"FDpfCrT4h1SpR4CYcbAyM1-7CggziAnuqagatx5wL-o\")\n",
    ")\n"
   ]
  },
  {
   "cell_type": "markdown",
   "id": "2868a6ee",
   "metadata": {},
   "source": [
    "# create card nodes"
   ]
  },
  {
   "cell_type": "code",
   "execution_count": 18,
   "id": "48c89982",
   "metadata": {},
   "outputs": [],
   "source": [
    "cs = []\n",
    "for x in cards:\n",
    "    keyl = x['Key Learning']\n",
    "    risk = x['Risks']\n",
    "    asmp = x['Assumptions']\n",
    "    goal = x['TNC 2030 Goals']\n",
    "    jtbd = x['Conservation Job-to-be-done']\n",
    "    tech = x['Tech Category']\n",
    "    ttag = x['Tech Tags']\n",
    "    orgs = x['Organization / BU']\n",
    "    site = x['Project Site']\n",
    "    desc = x['How we learnt this']\n",
    "    coll = x['External Collaborators']\n",
    "    ques = x['Open Questions']\n",
    "    cont = x['Contacts']\n",
    "    link = x['Links']\n",
    "    tvsc = x['Tech vs Cons. Learning Type']\n",
    "    cs.append([keyl, risk, asmp, goal, jtbd, tech, ttag, orgs, site, desc, coll, ques, cont, link, tvsc])\n",
    "    \n",
    "cypher_q9 = \"\"\"\n",
    "            create (t:Cards {key_learnings: $t_keyl, risks: $t_risk, assumptions: $t_asmp,\n",
    "            goals: $t_goal, job_to_be_done: $t_jtbd, tech_category: $t_tech, tech_tags: $t_ttag,\n",
    "            organizations_bus: $t_orgs, project_sites: $t_sites, how_we_learnt_this: $t_desc,\n",
    "            external_collaborators: $t_coll, open_questions: $t_ques, contacts: $t_cont,\n",
    "            links: $t_link, tech_vs_cons: $t_tvsc}) return t\n",
    "            \"\"\"\n",
    "\n",
    "count = 0\n",
    "for j in cs:\n",
    "    result =  g.run(cypher_q9, t_keyl=j[0], t_risk=j[1], t_asmp=j[2], t_goal=j[3],\n",
    "                   t_jtbd=j[4], t_tech=j[5], t_ttag=j[6], t_orgs=j[7], t_sites=j[8],\n",
    "                   t_desc=j[9], t_coll=j[10], t_ques=j[11], t_cont=j[12], t_link=j[13], t_tvsc=j[14])\n",
    "    count = count + 1\n",
    "\n",
    "    "
   ]
  },
  {
   "cell_type": "markdown",
   "id": "7743eab8",
   "metadata": {},
   "source": [
    "# 2030 goals tags and relationships"
   ]
  },
  {
   "cell_type": "code",
   "execution_count": 19,
   "id": "3d0e431b",
   "metadata": {},
   "outputs": [],
   "source": [
    "import pyparsing as pp\n",
    "\n",
    "ts = []\n",
    "for x in tags:\n",
    "    tn = x['tagName']\n",
    "    if tn == '2030Tags':\n",
    "        for t in x['tag']:\n",
    "            ts.append([tn,t])  \n",
    "\n",
    "cypher_q1 = \"create (t:Goals {tag: $t_tag, tagName: '2030 Goal'}) return t\"\n",
    "            \n",
    "count = 0\n",
    "for j in ts:\n",
    "    tt_arr = pp.common.comma_separated_list.parseString(ts[count][1]).asList()\n",
    "    for k in tt_arr:\n",
    "        k_str = k.replace('\"', '')\n",
    "        result = g.run(cypher_q1, t_tag=k_str)\n",
    "    count = count + 1\n",
    "\n"
   ]
  },
  {
   "cell_type": "code",
   "execution_count": 20,
   "id": "b1c1b726",
   "metadata": {},
   "outputs": [],
   "source": [
    "\n",
    "\n",
    "cypher_q10 = \"\"\"\n",
    "    match (g:Cards {goals: $t_goal}),\n",
    "    (t:Goals {tag: $t_tag})\n",
    "    merge (g)-[:tagged_goal]->(t)\n",
    "\"\"\"\n",
    "\n",
    "\n",
    "for r in cs:\n",
    "    count = 0\n",
    "    for p in ts:\n",
    "        tt_arr = pp.common.comma_separated_list.parseString(ts[count][1]).asList()\n",
    "        for q in tt_arr:\n",
    "            q_str = q.replace('\"', '')\n",
    "            if q_str in r[3]:\n",
    "                result = g.run(cypher_q10, t_goal=r[3], t_tag=q_str)\n",
    "        count = count + 1\n"
   ]
  },
  {
   "cell_type": "markdown",
   "id": "b0c93e18",
   "metadata": {},
   "source": [
    "# triple a goals tags"
   ]
  },
  {
   "cell_type": "code",
   "execution_count": 21,
   "id": "d53ab074",
   "metadata": {},
   "outputs": [],
   "source": [
    "ts = []\n",
    "for x in tags:\n",
    "    tn = x['tagName']\n",
    "    if tn == 'projectGoals':\n",
    "        for t in x['tag']:\n",
    "            ts.append([tn,t])  \n",
    "\n",
    "cypher_q2 = \"create (t:ProjectGoals {tag: $t_tag, tagName: 'Project Goal'}) return t\"\n",
    "            \n",
    "count = 0\n",
    "for j in ts:\n",
    "    tt_arr = pp.common.comma_separated_list.parseString(ts[count][1]).asList()\n",
    "    for k in tt_arr:\n",
    "        k_str = k.replace('\"', '')\n",
    "        result = g.run(cypher_q2, t_tag=k_str)\n",
    "    count = count + 1\n",
    "\n"
   ]
  },
  {
   "cell_type": "markdown",
   "id": "3fd59ae5",
   "metadata": {},
   "source": [
    "# conservation vs tech tags and relationships"
   ]
  },
  {
   "cell_type": "code",
   "execution_count": 22,
   "id": "1deab556",
   "metadata": {},
   "outputs": [],
   "source": [
    "ts = []\n",
    "for x in tags:\n",
    "    tn = x['tagName']\n",
    "    if tn == 'techVsCons':\n",
    "        for t in x['tag']:\n",
    "            ts.append([tn,t])  \n",
    "\n",
    "cypher_q16 = \"create (t:TechVsCons {tag: $t_tag, tagName: 'Technical vs. Conservation'}) return t\"\n",
    "            \n",
    "count = 0\n",
    "for j in ts:\n",
    "    tt_arr = pp.common.comma_separated_list.parseString(ts[count][1]).asList()\n",
    "    for k in tt_arr:\n",
    "        k_str = k.replace('\"', '')\n",
    "        result = g.run(cypher_q16, t_tag=k_str)\n",
    "    count = count + 1\n",
    "\n",
    "\n"
   ]
  },
  {
   "cell_type": "code",
   "execution_count": 23,
   "id": "f226a93d",
   "metadata": {},
   "outputs": [],
   "source": [
    "cypher_q17 = \"\"\"\n",
    "    match (g:Cards {tech_vs_cons: $t_tvsc}),\n",
    "    (t:TechVsCons {tag: $t_tag})\n",
    "    merge (g)-[:tagged_collabs]->(t)\n",
    "\"\"\"\n",
    "\n",
    "for r in cs:\n",
    "    count = 0\n",
    "    for p in ts:\n",
    "        tt_arr = pp.common.comma_separated_list.parseString(ts[count][1]).asList()\n",
    "        for q in tt_arr:\n",
    "            q_str = q.replace('\"', '')\n",
    "            if q_str in r[10]:\n",
    "                result = g.run(cypher_q17, t_tvsc=r[14], t_tag=q_str)\n",
    "        count = count + 1"
   ]
  },
  {
   "cell_type": "markdown",
   "id": "6780b465",
   "metadata": {},
   "source": [
    "# conservation project to be done goals tags and relationships"
   ]
  },
  {
   "cell_type": "code",
   "execution_count": 24,
   "id": "b04d9269",
   "metadata": {},
   "outputs": [],
   "source": [
    "ts = []\n",
    "for x in tags:\n",
    "    tn = x['tagName']\n",
    "    if tn == 'projectTags':\n",
    "        for t in x['tag']:\n",
    "            ts.append([tn,t])  \n",
    "\n",
    "cypher_q3 = \"create (t:Project {tag: $t_tag, tagName: 'Project Goal'}) return t\"\n",
    "            \n",
    "count = 0\n",
    "for j in ts:\n",
    "    tt_arr = pp.common.comma_separated_list.parseString(ts[count][1]).asList()\n",
    "    for k in tt_arr:\n",
    "        k_str = k.replace('\"', '')\n",
    "        result = g.run(cypher_q3, t_tag=k_str)\n",
    "    count = count + 1\n",
    "\n"
   ]
  },
  {
   "cell_type": "code",
   "execution_count": 25,
   "id": "e2e4ac2f",
   "metadata": {},
   "outputs": [],
   "source": [
    "cypher_q11 = \"\"\"\n",
    "    match (g:Cards {job_to_be_done: $t_jtbd}),\n",
    "    (t:Project {tag: $t_tag})\n",
    "    merge (g)-[:tagged_project]->(t)\n",
    "\"\"\"\n",
    "\n",
    "\n",
    "for r in cs:\n",
    "    count = 0\n",
    "    for p in ts:\n",
    "        tt_arr = pp.common.comma_separated_list.parseString(ts[count][1]).asList()\n",
    "        for q in tt_arr:\n",
    "            q_str = q.replace('\"', '')\n",
    "            if q_str in r[4]:\n",
    "                result = g.run(cypher_q11, t_jtbd=r[4], t_tag=q_str)\n",
    "        count = count + 1"
   ]
  },
  {
   "cell_type": "markdown",
   "id": "d7431ef2",
   "metadata": {},
   "source": [
    "# tech category tags and relationships"
   ]
  },
  {
   "cell_type": "code",
   "execution_count": 26,
   "id": "0c9d13db",
   "metadata": {},
   "outputs": [],
   "source": [
    "ts = []\n",
    "for x in tags:\n",
    "    tn = x['tagName']\n",
    "    if tn == 'techCatTags':\n",
    "        for t in x['tag']:\n",
    "            ts.append([tn,t])  \n",
    "\n",
    "cypher_q4 = \"create (t:Tech {tag: $t_tag, tagName: 'Tech Categories'}) return t\"\n",
    "            \n",
    "count = 0\n",
    "for j in ts:\n",
    "    tt_arr = pp.common.comma_separated_list.parseString(ts[count][1]).asList()\n",
    "    for k in tt_arr:\n",
    "        k_str = k.replace('\"', '')\n",
    "        result = g.run(cypher_q4, t_tag=k_str)\n",
    "    count = count + 1\n",
    "    \n"
   ]
  },
  {
   "cell_type": "code",
   "execution_count": 27,
   "id": "4fe1ceff",
   "metadata": {},
   "outputs": [],
   "source": [
    "cypher_q11 = \"\"\"\n",
    "    match (g:Cards {tech_category: $t_tech}),\n",
    "    (t:Tech {tag: $t_tag})\n",
    "    merge (g)-[:tagged_tech]->(t)\n",
    "\"\"\"\n",
    "\n",
    "\n",
    "for r in cs:\n",
    "    count = 0\n",
    "    for p in ts:\n",
    "        tt_arr = pp.common.comma_separated_list.parseString(ts[count][1]).asList()\n",
    "        for q in tt_arr:\n",
    "            q_str = q.replace('\"', '')\n",
    "            if q_str in r[5]:\n",
    "                result = g.run(cypher_q11, t_tech=r[5], t_tag=q_str)\n",
    "        count = count + 1"
   ]
  },
  {
   "cell_type": "markdown",
   "id": "294ebe4a",
   "metadata": {},
   "source": [
    "# tech subcategories tag and relationships"
   ]
  },
  {
   "cell_type": "code",
   "execution_count": 28,
   "id": "b97dc3c1",
   "metadata": {},
   "outputs": [],
   "source": [
    "ts = []\n",
    "for x in tags:\n",
    "    tn = x['tagName']\n",
    "    if tn == 'techSubCatTags':\n",
    "        for t in x['tag']:\n",
    "            ts.append([tn,t])  \n",
    "\n",
    "cypher_q5 = \"create (t:SpecificTech {tag: $t_tag, tagName: 'Tech Subcategories'}) return t\"\n",
    "            \n",
    "count = 0\n",
    "for j in ts:\n",
    "    tt_arr = pp.common.comma_separated_list.parseString(ts[count][1]).asList()\n",
    "    for k in tt_arr:\n",
    "        k_str = k.replace('\"', '')\n",
    "        result = g.run(cypher_q5, t_tag=k_str)\n",
    "    count = count + 1\n",
    "\n",
    "\n"
   ]
  },
  {
   "cell_type": "code",
   "execution_count": 29,
   "id": "0c10306d",
   "metadata": {},
   "outputs": [],
   "source": [
    "\n",
    "cypher_q12 = \"\"\"\n",
    "    match (g:Cards {tech_tags: $t_ttag}),\n",
    "    (t:SpecificTech {tag: $t_tag})\n",
    "    merge (g)-[:tagged_spec_tech]->(t)\n",
    "\"\"\"\n",
    "\n",
    "\n",
    "for r in cs:\n",
    "    count = 0\n",
    "    for p in ts:\n",
    "        tt_arr = pp.common.comma_separated_list.parseString(ts[count][1]).asList()\n",
    "        for q in tt_arr:\n",
    "            q_str = q.replace('\"', '')\n",
    "            if q_str in r[6]:\n",
    "                result = g.run(cypher_q12, t_ttag=r[6], t_tag=q_str)\n",
    "        count = count + 1"
   ]
  },
  {
   "cell_type": "markdown",
   "id": "063e8d14",
   "metadata": {},
   "source": [
    "# BU tags and relationships"
   ]
  },
  {
   "cell_type": "code",
   "execution_count": 30,
   "id": "7cffc77f",
   "metadata": {},
   "outputs": [],
   "source": [
    "ts = []\n",
    "for x in tags:\n",
    "    tn = x['tagName']\n",
    "    if tn == 'orgs/BUs':\n",
    "        for t in x['tag']:\n",
    "            ts.append([tn,t])  \n",
    "\n",
    "cypher_q6 = \"create (t:Organizations {tag: $t_tag, tagName: 'Organizations / BUs (TNC)'}) return t\"\n",
    "            \n",
    "count = 0\n",
    "for j in ts:\n",
    "    tt_arr = pp.common.comma_separated_list.parseString(ts[count][1]).asList()\n",
    "    for k in tt_arr:\n",
    "        k_str = k.replace('\"', '')\n",
    "        result = g.run(cypher_q6, t_tag=k_str)\n",
    "    count = count + 1\n",
    "\n",
    "\n"
   ]
  },
  {
   "cell_type": "code",
   "execution_count": 31,
   "id": "d03baeb0",
   "metadata": {},
   "outputs": [],
   "source": [
    "\n",
    "cypher_q13 = \"\"\"\n",
    "    match (g:Cards {organizations_bus: $t_orgs}),\n",
    "    (t:Organizations {tag: $t_tag})\n",
    "    merge (g)-[:tagged_orgs]->(t)\n",
    "\"\"\"\n",
    "\n",
    "\n",
    "for r in cs:\n",
    "    count = 0\n",
    "    for p in ts:\n",
    "        tt_arr = pp.common.comma_separated_list.parseString(ts[count][1]).asList()\n",
    "        for q in tt_arr:\n",
    "            q_str = q.replace('\"', '')\n",
    "            if q_str in r[7]:\n",
    "                result = g.run(cypher_q13, t_orgs=r[7], t_tag=q_str)\n",
    "        count = count + 1"
   ]
  },
  {
   "cell_type": "markdown",
   "id": "f852dedc",
   "metadata": {},
   "source": [
    "# sites tags and relationships"
   ]
  },
  {
   "cell_type": "code",
   "execution_count": 32,
   "id": "abdd191a",
   "metadata": {},
   "outputs": [],
   "source": [
    "\n",
    "cypher_q7 = \"create (t:Sites {tag: $t_tag, tagName: 'Sites / Preserves'}) return t\"\n",
    "            \n",
    "count = 0\n",
    "for j in ts:\n",
    "    tt_arr = pp.common.comma_separated_list.parseString(ts[count][1]).asList()\n",
    "    for k in tt_arr:\n",
    "        k_str = k.replace('\"', '')\n",
    "        result = g.run(cypher_q7, t_tag=k_str)\n",
    "    count = count + 1\n",
    "\n",
    "\n",
    "\n"
   ]
  },
  {
   "cell_type": "code",
   "execution_count": 33,
   "id": "1f8c6369",
   "metadata": {},
   "outputs": [],
   "source": [
    "\n",
    "cypher_q14 = \"\"\"\n",
    "    match (g:Cards {project_sites: $t_site}),\n",
    "    (t:Sites {tag: $t_tag})\n",
    "    merge (g)-[:tagged_sites]->(t)\n",
    "\"\"\"\n",
    "\n",
    "\n",
    "for r in cs:\n",
    "    count = 0\n",
    "    for p in ts:\n",
    "        tt_arr = pp.common.comma_separated_list.parseString(ts[count][1]).asList()\n",
    "        for q in tt_arr:\n",
    "            q_str = q.replace('\"', '')\n",
    "            if q_str in r[8]:\n",
    "                result = g.run(cypher_q14, t_site=r[8], t_tag=q_str)\n",
    "        count = count + 1"
   ]
  },
  {
   "cell_type": "markdown",
   "id": "64130e2f",
   "metadata": {},
   "source": [
    "# collabs tags and relationships"
   ]
  },
  {
   "cell_type": "code",
   "execution_count": 34,
   "id": "9f82669f",
   "metadata": {},
   "outputs": [],
   "source": [
    "ts = []\n",
    "for x in tags:\n",
    "    tn = x['tagName']\n",
    "    if tn == 'collabs':\n",
    "        for t in x['tag']:\n",
    "            ts.append([tn,t])  \n",
    "\n",
    "cypher_q8 = \"create (t:Collaborations {tag: $t_tag, tagName: 'External Collaborators'}) return t\"\n",
    "            \n",
    "count = 0\n",
    "for j in ts:\n",
    "    tt_arr = pp.common.comma_separated_list.parseString(ts[count][1]).asList()\n",
    "    for k in tt_arr:\n",
    "        k_str = k.replace('\"', '')\n",
    "        result = g.run(cypher_q8, t_tag=k_str)\n",
    "    count = count + 1\n",
    "\n",
    "\n",
    "\n"
   ]
  },
  {
   "cell_type": "code",
   "execution_count": 35,
   "id": "12485a0a",
   "metadata": {},
   "outputs": [],
   "source": [
    "\n",
    "cypher_q15 = \"\"\"\n",
    "    match (g:Cards {external_collaborators: $t_coll}),\n",
    "    (t:Collaborations {tag: $t_tag})\n",
    "    merge (g)-[:tagged_collabs]->(t)\n",
    "\"\"\"\n",
    "\n",
    "for r in cs:\n",
    "    count = 0\n",
    "    for p in ts:\n",
    "        tt_arr = pp.common.comma_separated_list.parseString(ts[count][1]).asList()\n",
    "        for q in tt_arr:\n",
    "            q_str = q.replace('\"', '')\n",
    "            if q_str in r[10]:\n",
    "                result = g.run(cypher_q15, t_coll=r[10], t_tag=q_str)\n",
    "        count = count + 1"
   ]
  },
  {
   "cell_type": "markdown",
   "id": "4aa58c8b",
   "metadata": {},
   "source": []
  },
  {
   "cell_type": "code",
   "execution_count": null,
   "id": "1c3a22b9",
   "metadata": {},
   "outputs": [],
   "source": []
  },
  {
   "cell_type": "code",
   "execution_count": null,
   "id": "b8ada3ff",
   "metadata": {},
   "outputs": [],
   "source": []
  }
 ],
 "metadata": {
  "kernelspec": {
   "display_name": "Python 3 (ipykernel)",
   "language": "python",
   "name": "python3"
  },
  "language_info": {
   "codemirror_mode": {
    "name": "ipython",
    "version": 3
   },
   "file_extension": ".py",
   "mimetype": "text/x-python",
   "name": "python",
   "nbconvert_exporter": "python",
   "pygments_lexer": "ipython3",
   "version": "3.9.7"
  }
 },
 "nbformat": 4,
 "nbformat_minor": 5
}
